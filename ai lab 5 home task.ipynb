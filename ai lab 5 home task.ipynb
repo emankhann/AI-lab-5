{
 "cells": [
  {
   "cell_type": "code",
   "execution_count": 3,
   "id": "f12ba6ec-de01-4b3c-96af-245c0951d5a9",
   "metadata": {},
   "outputs": [
    {
     "name": "stdin",
     "output_type": "stream",
     "text": [
      "Enter Appliance (Refrigerator, Washing Machine, Air Conditioner):  Refrigerator\n",
      "Enter Energy Consumption (High, Medium, Low):  Medium\n"
     ]
    },
    {
     "name": "stdout",
     "output_type": "stream",
     "text": [
      "Prediction for new entry (Refrigerator, Medium): No\n",
      "\n",
      "Confusion Matrix:\n",
      "[[3 0]\n",
      " [0 7]]\n",
      "Accuracy: 1.0\n"
     ]
    }
   ],
   "source": [
    "from sklearn import preprocessing\n",
    "from sklearn.tree import DecisionTreeClassifier\n",
    "from sklearn.metrics import confusion_matrix, accuracy_score\n",
    "\n",
    "# Data based on the given table\n",
    "data = {\n",
    "    \"Appliances\": [\n",
    "        \"Refrigerator\", \"Washing Machine\", \"Air Conditioner\", \"Washing Machine\",\n",
    "        \"Air Conditioner\", \"Refrigerator\", \"Air Conditioner\", \"Refrigerator\",\n",
    "        \"Washing Machine\", \"Air Conditioner\"\n",
    "    ],\n",
    "    \"Energy Consumption\": [\n",
    "        \"High\", \"Medium\", \"High\", \"Low\", \"Medium\", \"Low\", \"High\", \"Medium\", \"High\", \"Low\"\n",
    "    ],\n",
    "    \"Replace?\": [\n",
    "        \"No\", \"Yes\", \"Yes\", \"Yes\", \"Yes\", \"No\", \"Yes\", \"No\", \"Yes\", \"Yes\"\n",
    "    ]\n",
    "}\n",
    "\n",
    "# Label encoding for categorical data\n",
    "le_appliances = preprocessing.LabelEncoder()\n",
    "le_energy = preprocessing.LabelEncoder()\n",
    "le_replace = preprocessing.LabelEncoder()\n",
    "\n",
    "appliances_encoded = le_appliances.fit_transform(data[\"Appliances\"])\n",
    "energy_encoded = le_energy.fit_transform(data[\"Energy Consumption\"])\n",
    "replace_encoded = le_replace.fit_transform(data[\"Replace?\"])\n",
    "\n",
    "# Features and labels\n",
    "features = list(zip(appliances_encoded, energy_encoded))\n",
    "labels = replace_encoded\n",
    "\n",
    "# Train Decision Tree Classifier\n",
    "classifier = DecisionTreeClassifier()\n",
    "classifier.fit(features, labels)\n",
    "\n",
    "# Take user input\n",
    "user_appliance = input(\"Enter Appliance (Refrigerator, Washing Machine, Air Conditioner): \")\n",
    "user_energy = input(\"Enter Energy Consumption (High, Medium, Low): \")\n",
    "\n",
    "# Encode user input\n",
    "encoded_appliance = le_appliances.transform([user_appliance])[0]\n",
    "encoded_energy = le_energy.transform([user_energy])[0]\n",
    "new_entry = [[encoded_appliance, encoded_energy]]\n",
    "\n",
    "# Predict replacement decision\n",
    "new_prediction = classifier.predict(new_entry)\n",
    "prediction_result = \"Yes\" if new_prediction[0] == 1 else \"No\"\n",
    "\n",
    "# Output prediction\n",
    "print(f\"Prediction for new entry ({user_appliance}, {user_energy}):\", prediction_result)\n",
    "\n",
    "# Evaluate model performance\n",
    "predicted = classifier.predict(features)\n",
    "conf_mat = confusion_matrix(labels, predicted)\n",
    "accuracy = accuracy_score(labels, predicted)\n",
    "\n",
    "# Display results\n",
    "print(\"\\nConfusion Matrix:\")\n",
    "print(conf_mat)\n",
    "print(\"Accuracy:\", accuracy)\n"
   ]
  },
  {
   "cell_type": "code",
   "execution_count": null,
   "id": "698e84f6-14a6-4a3e-9115-ece9f06a303f",
   "metadata": {},
   "outputs": [],
   "source": []
  }
 ],
 "metadata": {
  "kernelspec": {
   "display_name": "Python 3 (ipykernel)",
   "language": "python",
   "name": "python3"
  },
  "language_info": {
   "codemirror_mode": {
    "name": "ipython",
    "version": 3
   },
   "file_extension": ".py",
   "mimetype": "text/x-python",
   "name": "python",
   "nbconvert_exporter": "python",
   "pygments_lexer": "ipython3",
   "version": "3.12.7"
  }
 },
 "nbformat": 4,
 "nbformat_minor": 5
}

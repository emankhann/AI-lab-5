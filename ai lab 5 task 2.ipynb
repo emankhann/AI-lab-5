{
 "cells": [
  {
   "cell_type": "code",
   "execution_count": 11,
   "id": "db0d7110-73d7-4de2-bb94-e2e14041aab2",
   "metadata": {},
   "outputs": [
    {
     "name": "stdout",
     "output_type": "stream",
     "text": [
      "Prediction for new entry: male\n",
      "\n",
      "Updated Dataset:\n",
      "   Gender  Height  Weight  FootSize\n",
      "0    male    6.00     180        12\n",
      "1    male    5.92     190        11\n",
      "2    male    5.58     170        12\n",
      "3    male    5.92     165        10\n",
      "4  female    5.00     100         6\n",
      "5  female    5.50     150         8\n",
      "6  female    5.42     130         7\n",
      "7  female    5.75     150         9\n",
      "8    male    6.00     180        12\n",
      "\n",
      "Confusion Matrix:\n",
      "[[4 0]\n",
      " [0 5]]\n",
      "Accuracy: 1.0\n"
     ]
    }
   ],
   "source": [
    "import pandas as pd\n",
    "import numpy as np\n",
    "from sklearn.tree import DecisionTreeClassifier\n",
    "from sklearn.metrics import confusion_matrix, accuracy_score\n",
    "\n",
    "data = {\n",
    "    \"Gender\": [\"male\", \"male\", \"male\", \"male\", \"female\", \"female\", \"female\", \"female\"],\n",
    "    \"Height\": [6.00, 5.92, 5.58, 5.92, 5.00, 5.50, 5.42, 5.75],\n",
    "    \"Weight\": [180, 190, 170, 165, 100, 150, 130, 150],\n",
    "    \"FootSize\": [12, 11, 12, 10, 6, 8, 7, 9],\n",
    "}\n",
    "df = pd.DataFrame(data)\n",
    "features = df[[\"Height\", \"Weight\", \"FootSize\"]]\n",
    "labels = df[\"Gender\"]\n",
    "\n",
    "labels_encoded = labels.map({\"male\": 1, \"female\": 0})\n",
    "\n",
    "classifier = DecisionTreeClassifier()\n",
    "classifier.fit(features, labels_encoded)\n",
    "\n",
    "new_entry = pd.DataFrame([[6.00, 180, 12]], columns=[\"Height\", \"Weight\", \"FootSize\"])\n",
    "prediction = classifier.predict(new_entry)\n",
    "predicted_label = \"male\" if prediction[0] == 1 else \"female\"\n",
    "\n",
    "print(\"Prediction for new entry:\", predicted_label)\n",
    "\n",
    "new_entry[\"Gender\"] = predicted_label\n",
    "df = pd.concat([df, new_entry], ignore_index=True)\n",
    "\n",
    "features = df[[\"Height\", \"Weight\", \"FootSize\"]]\n",
    "labels = df[\"Gender\"]\n",
    "labels_encoded = labels.map({\"male\": 1, \"female\": 0})\n",
    "predicted = classifier.predict(features)\n",
    "\n",
    "conf_mat = confusion_matrix(labels_encoded, predicted)\n",
    "accuracy = accuracy_score(labels_encoded, predicted)\n",
    "\n",
    "print(\"\\nUpdated Dataset:\")\n",
    "print(df)\n",
    "print(\"\\nConfusion Matrix:\")\n",
    "print(conf_mat)\n",
    "print(\"Accuracy:\", accuracy)\n"
   ]
  },
  {
   "cell_type": "code",
   "execution_count": null,
   "id": "8cb1ae94-47fc-4d85-8c4f-6548ac03fc08",
   "metadata": {},
   "outputs": [],
   "source": []
  }
 ],
 "metadata": {
  "kernelspec": {
   "display_name": "Python 3 (ipykernel)",
   "language": "python",
   "name": "python3"
  },
  "language_info": {
   "codemirror_mode": {
    "name": "ipython",
    "version": 3
   },
   "file_extension": ".py",
   "mimetype": "text/x-python",
   "name": "python",
   "nbconvert_exporter": "python",
   "pygments_lexer": "ipython3",
   "version": "3.12.7"
  }
 },
 "nbformat": 4,
 "nbformat_minor": 5
}
